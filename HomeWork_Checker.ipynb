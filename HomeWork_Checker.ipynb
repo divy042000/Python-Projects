{
  "nbformat": 4,
  "nbformat_minor": 0,
  "metadata": {
    "colab": {
      "provenance": [],
      "mount_file_id": "1qCwuPy8kqqzPxatdnsU_q-qd-VjyF8Q-",
      "authorship_tag": "ABX9TyMbqP6NPQj+qh/J35t8+m5z",
      "include_colab_link": true
    },
    "kernelspec": {
      "name": "python3",
      "display_name": "Python 3"
    },
    "language_info": {
      "name": "python"
    }
  },
  "cells": [
    {
      "cell_type": "markdown",
      "metadata": {
        "id": "view-in-github",
        "colab_type": "text"
      },
      "source": [
        "<a href=\"https://colab.research.google.com/github/divy042000/Python-Projects/blob/main/HomeWork_Checker.ipynb\" target=\"_parent\"><img src=\"https://colab.research.google.com/assets/colab-badge.svg\" alt=\"Open In Colab\"/></a>"
      ]
    },
    {
      "cell_type": "code",
      "source": [
        "from google.colab import drive\n",
        "drive.mount('/content/drive')\n"
      ],
      "metadata": {
        "colab": {
          "base_uri": "https://localhost:8080/"
        },
        "id": "0zTPRAXf6OlV",
        "outputId": "b7457aa4-7060-4f2d-fc0a-be1b4dc30fd9"
      },
      "execution_count": 2,
      "outputs": [
        {
          "output_type": "stream",
          "name": "stdout",
          "text": [
            "Drive already mounted at /content/drive; to attempt to forcibly remount, call drive.mount(\"/content/drive\", force_remount=True).\n"
          ]
        }
      ]
    },
    {
      "cell_type": "markdown",
      "source": [
        "Below is the Classwork Code"
      ],
      "metadata": {
        "id": "OvlpFCgQ_Iqh"
      }
    },
    {
      "cell_type": "code",
      "source": [
        "import pandas as pd\n",
        "\n",
        "def update_assignment_status(combined_excel_path, original_csv_path):\n",
        "    # Load the combined Excel sheet\n",
        "    combined_df = pd.read_excel(combined_excel_path)\n",
        "\n",
        "    # Load the original CSV file\n",
        "    original_df = pd.read_csv(original_csv_path)\n",
        "\n",
        "    # Combine 'First Name' and 'Last Name' to create 'Full Name'\n",
        "    original_df['Full Name'] = original_df['First Name'] + ' ' + original_df['Last Name']\n",
        "\n",
        "    # Create a mapping from 'Full Name' to 'Assignment State'\n",
        "    name_to_state = dict(zip(original_df['Full Name'], original_df['Assignment State']))\n",
        "\n",
        "    # Function to map assignment status\n",
        "    def map_status(name):\n",
        "        return 1 if name_to_state.get(name) == 'Done' else 0\n",
        "\n",
        "    # Apply the mapping function to create the 'Classwork-23-08-2024' column\n",
        "    combined_df['Classwork-02-09-2024'] = combined_df['Full Name'].apply(map_status)\n",
        "\n",
        "    # Save the updated DataFrame back to the same Excel file\n",
        "    combined_df.to_excel(combined_excel_path, index=False)\n",
        "    print(f\"Updated Excel file saved at: {combined_excel_path}\")\n",
        "\n",
        "# Example usage (ensure Google Drive is mounted if using Colab)\n",
        "combined_excel_path = '/content/drive/MyDrive/CSD_101_Section_8/Final_Classwork.xlsx'  # Path to the combined Excel file\n",
        "original_csv_path = '/content/drive/MyDrive/CSD_101_Section_8/ClassWork/Classwork-02-09-2024.csv'  # Path to the original CSV file\n",
        "\n",
        "# Call the function\n",
        "update_assignment_status(combined_excel_path, original_csv_path)\n"
      ],
      "metadata": {
        "colab": {
          "base_uri": "https://localhost:8080/"
        },
        "id": "rg0TylfX6hih",
        "outputId": "0b63ed0b-76b0-40a2-a955-6a062cb1f9a1"
      },
      "execution_count": 6,
      "outputs": [
        {
          "output_type": "stream",
          "name": "stdout",
          "text": [
            "Updated Excel file saved at: /content/drive/MyDrive/CSD_101_Section_8/Final_Classwork.xlsx\n"
          ]
        }
      ]
    },
    {
      "cell_type": "markdown",
      "source": [
        "Below is a home work code"
      ],
      "metadata": {
        "id": "0ebZ4Xwn_Ehp"
      }
    },
    {
      "cell_type": "code",
      "source": [
        "import pandas as pd\n",
        "\n",
        "def update_assignment_status(combined_excel_path, original_csv_path):\n",
        "    # Load the combined Excel sheet\n",
        "    combined_df = pd.read_excel(combined_excel_path)\n",
        "\n",
        "    # Load the original CSV file\n",
        "    original_df = pd.read_csv(original_csv_path)\n",
        "\n",
        "    # Combine 'First Name' and 'Last Name' to create 'Full Name'\n",
        "    original_df['Full Name'] = original_df['First Name'] + ' ' + original_df['Last Name']\n",
        "\n",
        "    # Create a mapping from 'Full Name' to 'Assignment State'\n",
        "    name_to_state = dict(zip(original_df['Full Name'], original_df['Assignment State']))\n",
        "\n",
        "    # Function to map assignment status\n",
        "    def map_status(name):\n",
        "        return 1 if name_to_state.get(name) == 'Done' else 0\n",
        "\n",
        "    # Apply the mapping function to create the 'Classwork-23-08-2024' column\n",
        "    combined_df['Classwork-30-08-2024'] = combined_df['Full Name'].apply(map_status)\n",
        "\n",
        "    # Save the updated DataFrame back to the same Excel file\n",
        "    combined_df.to_excel(combined_excel_path, index=False)\n",
        "    print(f\"Updated Excel file saved at: {combined_excel_path}\")\n",
        "\n",
        "# Example usage (ensure Google Drive is mounted if using Colab)\n",
        "combined_excel_path = '/content/drive/MyDrive/CSD_101_Section_8/Final_HomeWork.xlsx'  # Path to the combined Excel file\n",
        "original_csv_path = '/content/drive/MyDrive/CSD_101_Section_8/Practice_Example/Practice_Examples-30-08-2024.csv'  # Path to the original CSV file\n",
        "\n",
        "# Call the function\n",
        "update_assignment_status(combined_excel_path, original_csv_path)\n"
      ],
      "metadata": {
        "colab": {
          "base_uri": "https://localhost:8080/"
        },
        "id": "8BmOK8uA_DYC",
        "outputId": "acf5b4ad-2656-4654-a719-06716f0381f0"
      },
      "execution_count": 10,
      "outputs": [
        {
          "output_type": "stream",
          "name": "stdout",
          "text": [
            "Updated Excel file saved at: /content/drive/MyDrive/CSD_101_Section_8/Final_HomeWork.xlsx\n"
          ]
        }
      ]
    }
  ]
}